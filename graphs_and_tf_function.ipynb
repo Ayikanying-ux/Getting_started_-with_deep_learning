{
  "nbformat": 4,
  "nbformat_minor": 0,
  "metadata": {
    "colab": {
      "provenance": [],
      "authorship_tag": "ABX9TyNeBfmcQnKUjQ5wUxuKBiIr",
      "include_colab_link": true
    },
    "kernelspec": {
      "name": "python3",
      "display_name": "Python 3"
    },
    "language_info": {
      "name": "python"
    }
  },
  "cells": [
    {
      "cell_type": "markdown",
      "metadata": {
        "id": "view-in-github",
        "colab_type": "text"
      },
      "source": [
        "<a href=\"https://colab.research.google.com/github/Ayikanying-ux/Getting_started_-with_deep_learning/blob/main/graphs_and_tf_function.ipynb\" target=\"_parent\"><img src=\"https://colab.research.google.com/assets/colab-badge.svg\" alt=\"Open In Colab\"/></a>"
      ]
    },
    {
      "cell_type": "markdown",
      "source": [
        "### Introduction to graph and tf.function\n",
        "##### Overview\n",
        "* This gudie goes beneath the surface of TensorFlow and keras to demostrate how TensorFlow works. If you want to immediately ge started with Keras, check out the collection of keras guides.\n",
        "* In this guide, you'll learn how TensorFlow allows you to make simple changes to your code to get graphs, how graphs are stored and represented, and how you can use them to accelerate your models,"
      ],
      "metadata": {
        "id": "LeaKnRj5-0fZ"
      }
    },
    {
      "cell_type": "markdown",
      "source": [
        "\n",
        "\n",
        "---\n",
        "* This is a big-picture overview that covers how ```tf.function``` allows you to switch from eager execution to graph execution. For a more complete specification of ```tf.function```, go to the Better performance with tf.fuction guide"
      ],
      "metadata": {
        "id": "mg0ucdNNCXUF"
      }
    },
    {
      "cell_type": "markdown",
      "source": [
        "##### What are graphs\n",
        "* In the previous three guides, you ran TensorFlow eargly. This means TensorFlow operations are executed by python, operation by operation, and return results back to Python\n",
        "* While eager execution has several unique advantages, graph execution enables portability outside Python and tends to offer better performance. **Graph execution** means that tensor computations are executed as a TensorFlow graph, sometimes referred to as a ```tf.Graph``` or simply a \"graph\".\n",
        "\n",
        "**Graphs are data structures that contain a set of ```tf.Operation``` objects, which represent the units of data that flow between operations.** They are defined in a ```tf.Graph``` context. Since these graphs are data structures, they can be saved, run, and restored all without the original Python code."
      ],
      "metadata": {
        "id": "QDpax4MmDFCI"
      }
    },
    {
      "cell_type": "markdown",
      "source": [
        "### Setup\n",
        "Import some necessary libraries"
      ],
      "metadata": {
        "id": "7VgchszKFBzX"
      }
    },
    {
      "cell_type": "code",
      "execution_count": 3,
      "metadata": {
        "id": "YG-2c-RG-pdO"
      },
      "outputs": [],
      "source": [
        "import tensorflow as tf\n",
        "import timeit\n",
        "from datetime import datetime"
      ]
    },
    {
      "cell_type": "code",
      "source": [
        "# Define a Python function\n",
        "def a_regular_function(x, y, b):\n",
        "  x = tf.matmul(x, y)\n",
        "  x = x+b\n",
        "  return x\n",
        "\n",
        "# The python type of `a_function_that_uses_a_graph` will now will\n",
        "# be a `PolymorphicFunction`.\n",
        "a_function_that_uses_a_graph = tf.function(a_regular_function)\n",
        "\n",
        "# Make some tensors.\n",
        "x1 = tf.constant([[1.0, 2.0]])\n",
        "y1 = tf.constant([[2.0], [3.0]])\n",
        "b1 = tf.constant(4.0)\n",
        "\n",
        "orig_value = a_regular_function(x1, y1, b1).numpy()\n",
        "# Call a `tf.function` like a python function\n",
        "tf_function_value = a_function_that_uses_a_graph(x1, y1, b1).numpy()\n",
        "assert(orig_value == tf_function_value)"
      ],
      "metadata": {
        "id": "6ciefnZXFQ7x"
      },
      "execution_count": 6,
      "outputs": []
    },
    {
      "cell_type": "markdown",
      "source": [
        "\n",
        "\n",
        "---\n",
        "* On the outside, a tf.function looks like a regular function you write using TensorFlow operations. Underneath, however, it is very different. The underlying\n",
        "*  PolymorphicFunction encapsulates several tf.Graphs behind one API (learn more in the Polymorphism section). That is how a tf.function is able to give you the benefits of graph execution, like speed and deployability (refer to The benefits of graphs above).\n",
        "* tf.function applies to a function and all other functions it calls:"
      ],
      "metadata": {
        "id": "0wBkXYMEIoG2"
      }
    },
    {
      "cell_type": "code",
      "source": [
        "def inner_function(x, y, b):\n",
        "  x = tf.matmul(x, y)\n",
        "  x = x+b\n",
        "  return x\n",
        "\n",
        "# Using the `tf.functin` decorator makes `outer_functin` into a\n",
        "# `PolymorphicFunction`\n",
        "@tf.function\n",
        "def outer_function(x):\n",
        "  y=tf.constant([[2.0], [3.0]])\n",
        "  b=tf.constant(4.0)\n",
        "  return inner_function(x, y, b)\n",
        "\n",
        "# Note that the callable will create a graph that\n",
        "# includes `inner_function` as well as `out_function\n",
        "outer_function(tf.constant([[1.0, 2.0]])).numpy()"
      ],
      "metadata": {
        "colab": {
          "base_uri": "https://localhost:8080/"
        },
        "id": "rS3O5RvHHB67",
        "outputId": "c3531479-0953-4abb-87bc-0b77c97f9943"
      },
      "execution_count": 8,
      "outputs": [
        {
          "output_type": "execute_result",
          "data": {
            "text/plain": [
              "array([[12.]], dtype=float32)"
            ]
          },
          "metadata": {},
          "execution_count": 8
        }
      ]
    },
    {
      "cell_type": "code",
      "source": [],
      "metadata": {
        "id": "CIwlgbtqI-bS"
      },
      "execution_count": null,
      "outputs": []
    }
  ]
}
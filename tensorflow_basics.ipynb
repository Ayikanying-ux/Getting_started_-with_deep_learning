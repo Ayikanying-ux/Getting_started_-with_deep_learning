{
  "nbformat": 4,
  "nbformat_minor": 0,
  "metadata": {
    "colab": {
      "provenance": [],
      "toc_visible": true,
      "authorship_tag": "ABX9TyPGmvBIWTk6YvzQD4pLarzs",
      "include_colab_link": true
    },
    "kernelspec": {
      "name": "python3",
      "display_name": "Python 3"
    },
    "language_info": {
      "name": "python"
    }
  },
  "cells": [
    {
      "cell_type": "markdown",
      "metadata": {
        "id": "view-in-github",
        "colab_type": "text"
      },
      "source": [
        "<a href=\"https://colab.research.google.com/github/Ayikanying-ux/Getting_started_-with_deep_learning/blob/main/tensorflow_basics.ipynb\" target=\"_parent\"><img src=\"https://colab.research.google.com/assets/colab-badge.svg\" alt=\"Open In Colab\"/></a>"
      ]
    },
    {
      "cell_type": "code",
      "execution_count": 1,
      "metadata": {
        "id": "lSSNrNpyhGNu"
      },
      "outputs": [],
      "source": [
        "import tensorflow as tf"
      ]
    },
    {
      "cell_type": "code",
      "source": [
        "x = tf.constant([[1., 2., 3.],\n",
        "                [4., 5., 6.]])"
      ],
      "metadata": {
        "id": "rqXbWj9mhQVt"
      },
      "execution_count": 2,
      "outputs": []
    },
    {
      "cell_type": "code",
      "source": [
        "print(x)"
      ],
      "metadata": {
        "colab": {
          "base_uri": "https://localhost:8080/"
        },
        "id": "snrvmEv4iHuN",
        "outputId": "fe1d8d28-e75a-4792-ea8c-5ae430b49ea6"
      },
      "execution_count": 3,
      "outputs": [
        {
          "output_type": "stream",
          "name": "stdout",
          "text": [
            "tf.Tensor(\n",
            "[[1. 2. 3.]\n",
            " [4. 5. 6.]], shape=(2, 3), dtype=float32)\n"
          ]
        }
      ]
    },
    {
      "cell_type": "code",
      "source": [
        "print(x.shape)"
      ],
      "metadata": {
        "colab": {
          "base_uri": "https://localhost:8080/"
        },
        "id": "I3Ba2m3HiJNh",
        "outputId": "5de51190-96bf-4ca7-b220-30d3fa5ddb1d"
      },
      "execution_count": 4,
      "outputs": [
        {
          "output_type": "stream",
          "name": "stdout",
          "text": [
            "(2, 3)\n"
          ]
        }
      ]
    },
    {
      "cell_type": "code",
      "source": [
        "print(x.dtype)"
      ],
      "metadata": {
        "colab": {
          "base_uri": "https://localhost:8080/"
        },
        "id": "EG8a2eTUiMuJ",
        "outputId": "698d4082-c32f-48de-e247-70a06ce9ed65"
      },
      "execution_count": 5,
      "outputs": [
        {
          "output_type": "stream",
          "name": "stdout",
          "text": [
            "<dtype: 'float32'>\n"
          ]
        }
      ]
    },
    {
      "cell_type": "code",
      "source": [
        "x+x"
      ],
      "metadata": {
        "colab": {
          "base_uri": "https://localhost:8080/"
        },
        "id": "nXwxbYTRiPFA",
        "outputId": "c4472f02-5845-4e29-dbbb-8b6971c87ba4"
      },
      "execution_count": 6,
      "outputs": [
        {
          "output_type": "execute_result",
          "data": {
            "text/plain": [
              "<tf.Tensor: shape=(2, 3), dtype=float32, numpy=\n",
              "array([[ 2.,  4.,  6.],\n",
              "       [ 8., 10., 12.]], dtype=float32)>"
            ]
          },
          "metadata": {},
          "execution_count": 6
        }
      ]
    },
    {
      "cell_type": "code",
      "source": [
        "5*x"
      ],
      "metadata": {
        "colab": {
          "base_uri": "https://localhost:8080/"
        },
        "id": "6x7Yf1aFjv2X",
        "outputId": "51889cdd-29db-4a54-b860-dfb0b3cb83b9"
      },
      "execution_count": 7,
      "outputs": [
        {
          "output_type": "execute_result",
          "data": {
            "text/plain": [
              "<tf.Tensor: shape=(2, 3), dtype=float32, numpy=\n",
              "array([[ 5., 10., 15.],\n",
              "       [20., 25., 30.]], dtype=float32)>"
            ]
          },
          "metadata": {},
          "execution_count": 7
        }
      ]
    },
    {
      "cell_type": "code",
      "source": [
        "x @ tf.transpose(x)"
      ],
      "metadata": {
        "colab": {
          "base_uri": "https://localhost:8080/"
        },
        "id": "alz2zRhsj4ZH",
        "outputId": "b0888bd4-0a0c-4ccf-abbe-8ef96691a0cb"
      },
      "execution_count": 9,
      "outputs": [
        {
          "output_type": "execute_result",
          "data": {
            "text/plain": [
              "<tf.Tensor: shape=(2, 2), dtype=float32, numpy=\n",
              "array([[14., 32.],\n",
              "       [32., 77.]], dtype=float32)>"
            ]
          },
          "metadata": {},
          "execution_count": 9
        }
      ]
    },
    {
      "cell_type": "code",
      "source": [
        "tf.concat([x, x, x], axis=0)"
      ],
      "metadata": {
        "colab": {
          "base_uri": "https://localhost:8080/"
        },
        "id": "9abb58d0kOmZ",
        "outputId": "367c83a8-6120-4635-c8df-ea91e3143792"
      },
      "execution_count": 11,
      "outputs": [
        {
          "output_type": "execute_result",
          "data": {
            "text/plain": [
              "<tf.Tensor: shape=(6, 3), dtype=float32, numpy=\n",
              "array([[1., 2., 3.],\n",
              "       [4., 5., 6.],\n",
              "       [1., 2., 3.],\n",
              "       [4., 5., 6.],\n",
              "       [1., 2., 3.],\n",
              "       [4., 5., 6.]], dtype=float32)>"
            ]
          },
          "metadata": {},
          "execution_count": 11
        }
      ]
    },
    {
      "cell_type": "code",
      "source": [
        "tf.nn.softmax(x, axis=-1)"
      ],
      "metadata": {
        "id": "mzBQsWxFk_mm",
        "outputId": "1d903828-d1ec-438a-c961-ac6390f615ae",
        "colab": {
          "base_uri": "https://localhost:8080/"
        }
      },
      "execution_count": 12,
      "outputs": [
        {
          "output_type": "execute_result",
          "data": {
            "text/plain": [
              "<tf.Tensor: shape=(2, 3), dtype=float32, numpy=\n",
              "array([[0.09003057, 0.24472848, 0.66524094],\n",
              "       [0.09003057, 0.24472848, 0.66524094]], dtype=float32)>"
            ]
          },
          "metadata": {},
          "execution_count": 12
        }
      ]
    },
    {
      "cell_type": "code",
      "source": [
        "tf.reduce_sum(x)"
      ],
      "metadata": {
        "id": "_ljpB7tPmVeI",
        "outputId": "c4da07d5-fbcc-43f1-ec43-f375cb2020c7",
        "colab": {
          "base_uri": "https://localhost:8080/"
        }
      },
      "execution_count": 13,
      "outputs": [
        {
          "output_type": "execute_result",
          "data": {
            "text/plain": [
              "<tf.Tensor: shape=(), dtype=float32, numpy=21.0>"
            ]
          },
          "metadata": {},
          "execution_count": 13
        }
      ]
    },
    {
      "cell_type": "code",
      "source": [
        "tensor = tf.convert_to_tensor([1, 2, 3])\n",
        "print(tensor)"
      ],
      "metadata": {
        "id": "83C78IG6npYt",
        "outputId": "7cc39176-99a9-4ac7-ea33-59f0a0cf177b",
        "colab": {
          "base_uri": "https://localhost:8080/"
        }
      },
      "execution_count": 16,
      "outputs": [
        {
          "output_type": "stream",
          "name": "stdout",
          "text": [
            "tf.Tensor([1 2 3], shape=(3,), dtype=int32)\n"
          ]
        }
      ]
    },
    {
      "cell_type": "code",
      "source": [
        "print(tf.reduce_sum([1, 2, 3]))"
      ],
      "metadata": {
        "id": "9VNAwEGSo0eH",
        "outputId": "c4087aaa-0501-4e45-9735-0ee823e20ca8",
        "colab": {
          "base_uri": "https://localhost:8080/"
        }
      },
      "execution_count": 18,
      "outputs": [
        {
          "output_type": "stream",
          "name": "stdout",
          "text": [
            "tf.Tensor(6, shape=(), dtype=int32)\n"
          ]
        }
      ]
    },
    {
      "cell_type": "code",
      "source": [
        "if tf.config.list_physical_devices('GPU'):\n",
        "  print(\"TensorFlow **IS** using GPU\")\n",
        "else:\n",
        "  print(\"TensorFlow **IS NOT** using GPU\")"
      ],
      "metadata": {
        "id": "7pWI5ww2pEIy",
        "outputId": "56211f94-cca1-47a9-9703-4d8bd208ed63",
        "colab": {
          "base_uri": "https://localhost:8080/"
        }
      },
      "execution_count": 19,
      "outputs": [
        {
          "output_type": "stream",
          "name": "stdout",
          "text": [
            "TensorFlow **IS NOT** using GPU\n"
          ]
        }
      ]
    },
    {
      "cell_type": "markdown",
      "source": [
        "### Tensor Variables\n",
        "- Getting stated with tensorflow variables\n",
        "\n",
        "#### Introduction to Variables\n",
        "- A tensorflow variable is the recommended way to represent shared, persistent state you program manipulates.\n",
        "- This shows how to create, update, and manage instances of tf.Variable in TensorFlow\n",
        "\n"
      ],
      "metadata": {
        "id": "yPVVfJw3p2e7"
      }
    },
    {
      "cell_type": "markdown",
      "source": [
        "### Creating a variable\n",
        "- To create a variable, provide an initial value. the tf.Variable will have the same dtype as the initialization value"
      ],
      "metadata": {
        "id": "F1swJjlMrMKJ"
      }
    },
    {
      "cell_type": "code",
      "source": [
        "my_tensor = tf.constant([[1.0, 2.0], [3.0, 4.0]])\n",
        "my_variable = tf.Variable(my_tensor)\n",
        "my_variable"
      ],
      "metadata": {
        "id": "u7Rmgh2Rrxkc",
        "outputId": "93097d4b-0dad-4e70-c537-67f8a88bb762",
        "colab": {
          "base_uri": "https://localhost:8080/"
        }
      },
      "execution_count": 31,
      "outputs": [
        {
          "output_type": "execute_result",
          "data": {
            "text/plain": [
              "<tf.Variable 'Variable:0' shape=(2, 2) dtype=float32, numpy=\n",
              "array([[1., 2.],\n",
              "       [3., 4.]], dtype=float32)>"
            ]
          },
          "metadata": {},
          "execution_count": 31
        }
      ]
    },
    {
      "cell_type": "markdown",
      "source": [
        "\n",
        "\n",
        "---\n",
        "- Variables can be of any kind of types\n"
      ],
      "metadata": {
        "id": "c5PNq2DbsEl5"
      }
    },
    {
      "cell_type": "code",
      "source": [
        "bool_variable = tf.Variable([False, False, False, False])\n",
        "complex_variable = tf.Variable([5 + 4j, 6 + 1j])"
      ],
      "metadata": {
        "id": "yj2x5aJQsTmU"
      },
      "execution_count": 26,
      "outputs": []
    },
    {
      "cell_type": "markdown",
      "source": [
        "\n",
        "\n",
        "---\n",
        "A variable looks and acts like a tensor, and in fact is a data structure backed by a tf.Tensor. Like tensors, they have a dtype and a shape, and can be exported to Numpy\n"
      ],
      "metadata": {
        "id": "qy9os1sZsnBa"
      }
    },
    {
      "cell_type": "code",
      "source": [
        "print(\"Shape:\", my_variable.shape)\n",
        "print(\"DType:\", my_variable.dtype)\n",
        "print(\"As Numpy:\", my_variable.numpy())"
      ],
      "metadata": {
        "id": "YMTy393ts99u",
        "outputId": "6f701397-b52d-4376-a159-16d71433d39c",
        "colab": {
          "base_uri": "https://localhost:8080/"
        }
      },
      "execution_count": 28,
      "outputs": [
        {
          "output_type": "stream",
          "name": "stdout",
          "text": [
            "Shape: (2, 2)\n",
            "DType: <dtype: 'float32'>\n",
            "As Numpy: [[1. 2.]\n",
            " [3. 4.]]\n"
          ]
        }
      ]
    },
    {
      "cell_type": "markdown",
      "source": [
        "\n",
        "\n",
        "---\n",
        "Most tensors operations work on variables as expected, although variables cannot be reshape\n",
        "\n"
      ],
      "metadata": {
        "id": "leiCyKGGtYs7"
      }
    },
    {
      "cell_type": "code",
      "source": [
        "print(\"A variable:\", my_variable)\n",
        "print(\"\\nViewed as a tensor:\", tf.convert_to_tensor(my_variable))\n",
        "print(\"\\nIndex of highest value:\", tf.math.argmax(my_variable))\n",
        "\n",
        "# This creates a new tensor, it does not reshape the variable\n",
        "print(\"\\nCopying and reshaping:\", tf.reshape(my_variable, [1, 4]))"
      ],
      "metadata": {
        "id": "nAU_ox2wtjew",
        "outputId": "bcb3f4d4-5a61-4aac-e98f-07f2dc9120ae",
        "colab": {
          "base_uri": "https://localhost:8080/"
        }
      },
      "execution_count": 30,
      "outputs": [
        {
          "output_type": "stream",
          "name": "stdout",
          "text": [
            "A variable: <tf.Variable 'Variable:0' shape=(2, 2) dtype=float32, numpy=\n",
            "array([[1., 2.],\n",
            "       [3., 4.]], dtype=float32)>\n",
            "\n",
            "Viewed as a tensor: tf.Tensor(\n",
            "[[1. 2.]\n",
            " [3. 4.]], shape=(2, 2), dtype=float32)\n",
            "\n",
            "Index of highest value: tf.Tensor([1 1], shape=(2,), dtype=int64)\n",
            "\n",
            "Copying and reshaping: tf.Tensor([[1. 2. 3. 4.]], shape=(1, 4), dtype=float32)\n"
          ]
        }
      ]
    },
    {
      "cell_type": "markdown",
      "source": [
        "\n",
        "\n",
        "---\n",
        "- Variables are backed by tensors, you can assign the tensor using tf.Variable.assign. Calling the assign does not (usually) allocate a new tensor instead the existing tensor's memory is reused\n"
      ],
      "metadata": {
        "id": "ef2wRgbUuk69"
      }
    },
    {
      "cell_type": "code",
      "source": [
        "a = tf.Variable([2.0, 3.0])\n",
        "# This will keep the same dtype, float32\n",
        "a.assign([1, 2])\n",
        "# Not allowed as it resizes the variable\n",
        "try:\n",
        "  a.assign([1.0, 2.0, 3.0])\n",
        "except Exception as e:\n",
        "  print(f\"{type(e).__name__}: e{e}\")"
      ],
      "metadata": {
        "id": "-CT3d9Fru8x7",
        "outputId": "e2eb4222-eca3-4281-b685-a3f147253972",
        "colab": {
          "base_uri": "https://localhost:8080/"
        }
      },
      "execution_count": 32,
      "outputs": [
        {
          "output_type": "stream",
          "name": "stdout",
          "text": [
            "ValueError: eCannot assign value to variable ' Variable:0': Shape mismatch.The variable shape (2,), and the assigned value shape (3,) are incompatible.\n"
          ]
        }
      ]
    },
    {
      "cell_type": "markdown",
      "source": [
        "\n",
        "\n",
        "---\n",
        "- If you use a variable like a tensor in operations, you will usually operate on the backing tensor\n",
        "- Creating new variables from existing variables duplicates the backing tensors. Two variables will not share the same memory\n"
      ],
      "metadata": {
        "id": "MLZR6IyOvkwA"
      }
    },
    {
      "cell_type": "code",
      "source": [
        "a = tf.Variable([2.0, 3.0])\n",
        "# Create b based on the value of a\n",
        "b = tf.Variable(a)\n",
        "a.assign([5, 6])\n",
        "\n",
        "# a and b are different\n",
        "print(a.numpy())\n",
        "print(b.numpy())\n",
        "\n",
        "# There are other versions of assign\n",
        "print(a.assign_add([2, 3]).numpy())\n",
        "print(a.assign_sub([7, 9]).numpy())"
      ],
      "metadata": {
        "id": "7H7Q294Gv7oy",
        "outputId": "274da296-9e45-4909-d87e-75fdd40e215e",
        "colab": {
          "base_uri": "https://localhost:8080/"
        }
      },
      "execution_count": 33,
      "outputs": [
        {
          "output_type": "stream",
          "name": "stdout",
          "text": [
            "[5. 6.]\n",
            "[2. 3.]\n",
            "[7. 9.]\n",
            "[0. 0.]\n"
          ]
        }
      ]
    },
    {
      "cell_type": "markdown",
      "source": [
        "### Lifecycles, naming, and watching\n",
        "- In python-based TensorFlow, tf.Variable instance have the same lifecycle as other python objects. When there are no references to a variable it is automatically deallocated.\n",
        "\n",
        "- Variables can also be named which can help you track and debug them. You can give two variables the same name"
      ],
      "metadata": {
        "id": "yfy4gwsixED9"
      }
    },
    {
      "cell_type": "code",
      "source": [
        "# Create a and b; they will have the same name but will be backed by\n",
        "# different tensors.\n",
        "a = tf.Variable(my_tensor, name=\"Mark\")\n",
        "# A new variable with the same name, but different value\n",
        "# Note that the scalar add is broadcast\n",
        "b = tf.Variable(my_tensor + 1, name=\"Mark\")\n",
        "\n",
        "# These are elementwise-unequal, despite having the same name\n",
        "print(a == b)\n"
      ],
      "metadata": {
        "id": "qsK6hrJsx9N5",
        "outputId": "38f976f1-afd0-4d4c-9e66-c6bed38a51c9",
        "colab": {
          "base_uri": "https://localhost:8080/"
        }
      },
      "execution_count": 34,
      "outputs": [
        {
          "output_type": "stream",
          "name": "stdout",
          "text": [
            "tf.Tensor(\n",
            "[[False False]\n",
            " [False False]], shape=(2, 2), dtype=bool)\n"
          ]
        }
      ]
    },
    {
      "cell_type": "markdown",
      "source": [
        "\n",
        "\n",
        "---\n",
        "- Variable names are preserved when saving and loading models. By default, variables in models will acquire unique variable names automatically, so you don't need to assign them yourself unless you want to.\n",
        "\n",
        "- Although variables are important for differentiation, some variables will not need to be differentiated. You can turn off gradients for a variable by setting trainable to false at creation. An example of a variable that would not need gradients is a training step counter."
      ],
      "metadata": {
        "id": "dJG2U7-8yTex"
      }
    },
    {
      "cell_type": "code",
      "source": [
        "step_counter = tf.Variable(1, trainable=False)"
      ],
      "metadata": {
        "id": "8-4XK5-dzo3U"
      },
      "execution_count": 38,
      "outputs": []
    },
    {
      "cell_type": "markdown",
      "source": [
        "### Placing variable and tensors\n",
        "- For better performance, TensorFlow will attempt to place tensors and variables on the fastest device compatible with its dtype. This means most variables are placed on a GPU if one is available.\n",
        "\n",
        "- However, you can override this. In this snippet, place a float tensor and a variable on the CPU, even if a GPU is available. By turning on device placement logging (see Setup), you can see where the variable is placed.\n",
        "\n"
      ],
      "metadata": {
        "id": "ttYC5LDYyor2"
      }
    },
    {
      "cell_type": "code",
      "source": [
        "with tf.device('CPU:0'):\n",
        "\n",
        "  # Create some tensors\n",
        "  a = tf.Variable([[1.0, 2.0, 3.0], [4.0, 5.0, 6.0]])\n",
        "  b = tf.constant([[1.0, 2.0], [3.0, 4.0], [5.0, 6.0]])\n",
        "  c = tf.matmul(a, b)\n",
        "\n",
        "print(c)\n"
      ],
      "metadata": {
        "id": "ZJ9uYJ1rzWup",
        "outputId": "ca19f137-e0b2-4a27-9162-10bb217292c8",
        "colab": {
          "base_uri": "https://localhost:8080/"
        }
      },
      "execution_count": 36,
      "outputs": [
        {
          "output_type": "stream",
          "name": "stdout",
          "text": [
            "tf.Tensor(\n",
            "[[22. 28.]\n",
            " [49. 64.]], shape=(2, 2), dtype=float32)\n"
          ]
        }
      ]
    },
    {
      "cell_type": "code",
      "source": [
        "with tf.device('CPU:0'):\n",
        "  a = tf.Variable([[1.0, 2.0, 3.0], [4.0, 5.0, 6.0]])\n",
        "  b = tf.Variable([[1.0, 2.0, 3.0]])\n",
        "\n",
        "with tf.device('GPU:0'):\n",
        "  # Element-wise multiply\n",
        "  k = a * b\n",
        "\n",
        "print(k)"
      ],
      "metadata": {
        "id": "RL8_GOZ7zhNn",
        "outputId": "a2906f38-3acb-4ae4-d52a-e2f8d922182f",
        "colab": {
          "base_uri": "https://localhost:8080/"
        }
      },
      "execution_count": 37,
      "outputs": [
        {
          "output_type": "stream",
          "name": "stdout",
          "text": [
            "tf.Tensor(\n",
            "[[ 1.  4.  9.]\n",
            " [ 4. 10. 18.]], shape=(2, 3), dtype=float32)\n"
          ]
        }
      ]
    }
  ]
}